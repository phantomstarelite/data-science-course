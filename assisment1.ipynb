{
 "cells": [
  {
   "cell_type": "markdown",
   "id": "0d042176-1b32-4907-b0c8-3f547b857460",
   "metadata": {},
   "source": [
    "Q1. Create one variable containing following type of data:\n",
    "(i) string\n",
    "(ii) list\n",
    "(iii) float\n",
    "(iv) tuple"
   ]
  },
  {
   "cell_type": "code",
   "execution_count": null,
   "id": "1df0ce60-9a3c-4682-880f-e8b3c1326015",
   "metadata": {},
   "outputs": [],
   "source": [
    "#Solution:\n",
    "a = \"pratik\"\n",
    "b = [10, 20, 30, True, False, 12+13j]\n",
    "c = 12.335\n",
    "d = (10, 20, \"pratik\", True, False, 12+13j, 12.22)"
   ]
  },
  {
   "cell_type": "markdown",
   "id": "abf78529-7424-4743-8441-4a62093a46be",
   "metadata": {},
   "source": [
    "Q2. Given are some following variables containing data:\n",
    "(i) var1 = ‘ ‘\n",
    "(ii) var2 = ‘[ DS , ML , Python]’\n",
    "(iii) var3 = [ ‘DS’ , ’ML’ , ‘Python’ ]\n",
    "(iv) var4 = 1.\n",
    "What will be the data type of the above given variable."
   ]
  },
  {
   "cell_type": "code",
   "execution_count": null,
   "id": "3edf6a19-a50a-4a8c-984f-96173be8ce0e",
   "metadata": {},
   "outputs": [],
   "source": [
    "#Solution\n",
    "var1 = \"This is string datatype\"\n",
    "var2 = \"This is a string datatype\"\n",
    "var3 = \"This is list datatype\"\n",
    "var4 = \"This is int datatype\""
   ]
  },
  {
   "cell_type": "markdown",
   "id": "d84e4164-3d86-43a0-8359-19d85830a321",
   "metadata": {},
   "source": [
    "Q3. Explain the use of the following operators using an example:\n",
    "(i) /\n",
    "(ii) %\n",
    "(iii) //\n",
    "(iv) **"
   ]
  },
  {
   "cell_type": "code",
   "execution_count": null,
   "id": "fda33cf2-240b-4f6f-83c7-0cfc151814ce",
   "metadata": {},
   "outputs": [],
   "source": [
    "#Solution\n",
    "a = \"Division is aritmatic operater use for division\"\n",
    "b = \"Modulus is arimatic operator use for finding reminder\"\n",
    "c = \"Floating Divsion operator is use to get the value \"\n",
    "d = \"Expontent is the arithmatic operator use for finding power of number\""
   ]
  },
  {
   "cell_type": "markdown",
   "id": "fe7aa7ce-10d9-44e2-bb25-9eb1ec0e28b8",
   "metadata": {},
   "source": [
    "Q4. Create a list of length 10 of your choice containing multiple types of data. Using for loop print the\n",
    "element and its data type."
   ]
  },
  {
   "cell_type": "code",
   "execution_count": 1,
   "id": "64d7e269-a612-4734-a273-66be6d29b519",
   "metadata": {},
   "outputs": [
    {
     "name": "stdout",
     "output_type": "stream",
     "text": [
      "10 <class 'int'>\n",
      "20 <class 'int'>\n",
      "30 <class 'int'>\n",
      "40 <class 'int'>\n",
      "True <class 'bool'>\n",
      "False <class 'bool'>\n",
      "pratik <class 'str'>\n",
      "(12+13j) <class 'complex'>\n",
      "karan <class 'str'>\n",
      "0.00013 <class 'float'>\n"
     ]
    }
   ],
   "source": [
    "#Solution:\n",
    "l = [10, 20, 30, 40, True, False, \"pratik\", 12+13j, \"karan\", 13e-5]\n",
    "for x in l:\n",
    "    print(x, type(x))\n",
    "    "
   ]
  },
  {
   "cell_type": "markdown",
   "id": "abc14593-82b6-40b3-a934-6a0b199f90b8",
   "metadata": {},
   "source": [
    "Q5. Using a while loop, verify if the number A is purely divisible by number B and if so then how many\n",
    "times it can be divisible."
   ]
  },
  {
   "cell_type": "code",
   "execution_count": 2,
   "id": "d4cd47a4-74c8-4744-9367-e1ccb325146f",
   "metadata": {},
   "outputs": [
    {
     "name": "stdin",
     "output_type": "stream",
     "text": [
      "Enter the first number (A):  10\n",
      "Enter the second number (B):  20\n"
     ]
    },
    {
     "name": "stdout",
     "output_type": "stream",
     "text": [
      "10 is not purely divisible by 20\n"
     ]
    }
   ],
   "source": [
    "A = int(input(\"Enter the first number (A): \"))\n",
    "B = int(input(\"Enter the second number (B): \"))\n",
    "\n",
    "count = 0\n",
    "\n",
    "if B <= 0:\n",
    "    print(\"B must be a positive number\")\n",
    "else:\n",
    "    while A % B == 0:\n",
    "        A = A // B\n",
    "        count += 1\n",
    "\n",
    "if count > 0:\n",
    "    print(f\"{A} is purely divisible by {B} exactly {count} times\")\n",
    "else:\n",
    "    print(f\"{A} is not purely divisible by {B}\")\n"
   ]
  },
  {
   "cell_type": "markdown",
   "id": "1d3bc086-1cba-42e2-9ba7-161bf1c06553",
   "metadata": {},
   "source": [
    "Q6. Create a list containing 25 int type data. Using for loop and if-else condition print if the element is\n",
    "divisible by 3 or not."
   ]
  },
  {
   "cell_type": "code",
   "execution_count": null,
   "id": "7974515f-8116-47c6-91db-7cf14283c4ab",
   "metadata": {},
   "outputs": [],
   "source": [
    "my_list = [1, 2, 3, 4, 5, 6, 7, 8, 9, 10, 11, 12, 13, 14, 15, 16, 17, 18, 19, 20, 21, 22,23, 24, 25,26]\n",
    "for num in my_list:\n",
    "    if num%3==0:\n",
    "        print(\"The number is divnum)"
   ]
  }
 ],
 "metadata": {
  "kernelspec": {
   "display_name": "Python 3 (ipykernel)",
   "language": "python",
   "name": "python3"
  },
  "language_info": {
   "codemirror_mode": {
    "name": "ipython",
    "version": 3
   },
   "file_extension": ".py",
   "mimetype": "text/x-python",
   "name": "python",
   "nbconvert_exporter": "python",
   "pygments_lexer": "ipython3",
   "version": "3.10.8"
  }
 },
 "nbformat": 4,
 "nbformat_minor": 5
}
